{
  "nbformat": 4,
  "nbformat_minor": 0,
  "metadata": {
    "colab": {
      "name": "KeywordIdeasFromMeLi.ipynb",
      "provenance": [],
      "authorship_tag": "ABX9TyOQy4xX6EGKP0JRatR1gy0F",
      "include_colab_link": true
    },
    "kernelspec": {
      "name": "python3",
      "display_name": "Python 3"
    },
    "language_info": {
      "name": "python"
    }
  },
  "cells": [
    {
      "cell_type": "markdown",
      "metadata": {
        "id": "view-in-github",
        "colab_type": "text"
      },
      "source": [
        "<a href=\"https://colab.research.google.com/github/Xyborg/meli-related-searches/blob/main/KeywordIdeasFromMeLi.ipynb\" target=\"_parent\"><img src=\"https://colab.research.google.com/assets/colab-badge.svg\" alt=\"Open In Colab\"/></a>"
      ]
    },
    {
      "cell_type": "code",
      "execution_count": 1,
      "metadata": {
        "colab": {
          "base_uri": "https://localhost:8080/"
        },
        "id": "TmVbT5n1a7A3",
        "outputId": "be866beb-4cdf-4c5b-8bba-716c4976af40"
      },
      "outputs": [
        {
          "output_type": "stream",
          "name": "stdout",
          "text": [
            "Looking in indexes: https://pypi.org/simple, https://us-python.pkg.dev/colab-wheels/public/simple/\n",
            "Collecting user_agent2\n",
            "  Downloading user_agent2-2021.12.11-py3-none-any.whl (4.2 kB)\n",
            "Collecting user-agent==0.1.10\n",
            "  Downloading user_agent-0.1.10.tar.gz (20 kB)\n",
            "Requirement already satisfied: six in /usr/local/lib/python3.7/dist-packages (from user-agent==0.1.10->user_agent2) (1.15.0)\n",
            "Building wheels for collected packages: user-agent\n",
            "  Building wheel for user-agent (setup.py) ... \u001b[?25l\u001b[?25hdone\n",
            "  Created wheel for user-agent: filename=user_agent-0.1.10-py3-none-any.whl size=18982 sha256=c56486c9a4dbe812a29e4a835334af936f11fdfc12dc1ffc5446fe68b3814f81\n",
            "  Stored in directory: /root/.cache/pip/wheels/09/a4/b8/8125d9fb731fb7c785eb41e8eda216297b1a9d4bb28a043397\n",
            "Successfully built user-agent\n",
            "Installing collected packages: user-agent, user-agent2\n",
            "Successfully installed user-agent-0.1.10 user-agent2-2021.12.11\n"
          ]
        }
      ],
      "source": [
        "!pip install user_agent2"
      ]
    },
    {
      "cell_type": "code",
      "source": [
        "import requests\n",
        "import json\n",
        "import pandas as pd\n",
        "from user_agent2 import (generate_user_agent)\n",
        "from google.colab import files"
      ],
      "metadata": {
        "id": "4fO-gtgscpKI"
      },
      "execution_count": 2,
      "outputs": []
    },
    {
      "cell_type": "markdown",
      "source": [
        "Este pequeño script te permite extraer ideas de palabras claves utilizando las sugerencias de Mercado Libre.\n",
        "Es posible elegir diferentes paises."
      ],
      "metadata": {
        "id": "Mb5g-KIGr2C7"
      }
    },
    {
      "cell_type": "code",
      "source": [
        "seedkwd = input(\"Keyword Semilla: \")\n",
        "print(\"\\nArgentina (MLA), Mexico (MLM), Brasil (MLB), Uruguay (MLU), Chile (MLC), Colombia (MCO), Peru (MPE)\")\n",
        "print(\"Si quieres elegir Argetina, ingresa MLA\")\n",
        "mercado = input(\"Mercado Objetivo: \")"
      ],
      "metadata": {
        "colab": {
          "base_uri": "https://localhost:8080/"
        },
        "id": "fzAKmyrCpqzB",
        "outputId": "06f6d000-3ee0-424e-b5f9-0845613dc1aa"
      },
      "execution_count": 3,
      "outputs": [
        {
          "name": "stdout",
          "output_type": "stream",
          "text": [
            "Keyword Semilla: samsung\n",
            "\n",
            "Argentina (MLA), Mexico (MLM), Brasil (MLB), Uruguay (MLU), Chile (MLC), Colombia (MCO), Peru (MPE)\n",
            "Si quieres elegir Argetina, ingresa MLA\n",
            "Mercado Objetivo: MLA\n"
          ]
        }
      ]
    },
    {
      "cell_type": "code",
      "source": [
        "def getkwds(seed_keyword, market):\n",
        "  ua = generate_user_agent(navigator=\"chrome\")\n",
        "  header = {'User-Agent': str(ua)}\n",
        "  getterms_url = \"https://http2.mlstatic.com/resources/sites/\" + market + \"/autosuggest?showFilters=true&limit=6&api_version=2&q=\"\n",
        "  response = requests.get(getterms_url + seed_keyword, headers=header)\n",
        "  return response"
      ],
      "metadata": {
        "id": "bN0dx3PThbZj"
      },
      "execution_count": 4,
      "outputs": []
    },
    {
      "cell_type": "code",
      "source": [
        "source_kws = []\n",
        "final_kws = []\n",
        "\n",
        "for i in getkwds(seedkwd, mercado).json()['suggested_queries']:\n",
        "    for o in getkwds(i['q'], mercado).json()['suggested_queries']:\n",
        "      source_kws.append(i['q'])\n",
        "      final_kws.append(o['q'])\n",
        "      for p in getkwds(o['q'], mercado).json()['suggested_queries']:\n",
        "        source_kws.append(i['q'])\n",
        "        final_kws.append(p['q'])\n",
        "        for q in getkwds(p['q'], mercado).json()['suggested_queries']:\n",
        "          source_kws.append(i['q'])\n",
        "          final_kws.append(o['q'])\n",
        "\n",
        "df = pd.DataFrame(None)\n",
        "df['seed_keyword'] = source_kws\n",
        "df['related_searches'] = final_kws\n",
        "\n",
        "df = df.explode('related_searches').reset_index(drop=True)\n",
        "df = df.drop_duplicates().reset_index(drop=True)\n",
        "\n",
        "df\n",
        "df.to_csv('meli-export-palabras-relacionadas.csv', encoding = 'utf-8') \n",
        "files.download('meli-export-palabras-relacionadas.csv')"
      ],
      "metadata": {
        "colab": {
          "base_uri": "https://localhost:8080/",
          "height": 17
        },
        "id": "_z6-4oNtbjfx",
        "outputId": "f47f108c-81f5-4221-ee10-2ebdb26ea2db"
      },
      "execution_count": 6,
      "outputs": [
        {
          "output_type": "display_data",
          "data": {
            "text/plain": [
              "<IPython.core.display.Javascript object>"
            ],
            "application/javascript": [
              "\n",
              "    async function download(id, filename, size) {\n",
              "      if (!google.colab.kernel.accessAllowed) {\n",
              "        return;\n",
              "      }\n",
              "      const div = document.createElement('div');\n",
              "      const label = document.createElement('label');\n",
              "      label.textContent = `Downloading \"${filename}\": `;\n",
              "      div.appendChild(label);\n",
              "      const progress = document.createElement('progress');\n",
              "      progress.max = size;\n",
              "      div.appendChild(progress);\n",
              "      document.body.appendChild(div);\n",
              "\n",
              "      const buffers = [];\n",
              "      let downloaded = 0;\n",
              "\n",
              "      const channel = await google.colab.kernel.comms.open(id);\n",
              "      // Send a message to notify the kernel that we're ready.\n",
              "      channel.send({})\n",
              "\n",
              "      for await (const message of channel.messages) {\n",
              "        // Send a message to notify the kernel that we're ready.\n",
              "        channel.send({})\n",
              "        if (message.buffers) {\n",
              "          for (const buffer of message.buffers) {\n",
              "            buffers.push(buffer);\n",
              "            downloaded += buffer.byteLength;\n",
              "            progress.value = downloaded;\n",
              "          }\n",
              "        }\n",
              "      }\n",
              "      const blob = new Blob(buffers, {type: 'application/binary'});\n",
              "      const a = document.createElement('a');\n",
              "      a.href = window.URL.createObjectURL(blob);\n",
              "      a.download = filename;\n",
              "      div.appendChild(a);\n",
              "      a.click();\n",
              "      div.remove();\n",
              "    }\n",
              "  "
            ]
          },
          "metadata": {}
        },
        {
          "output_type": "display_data",
          "data": {
            "text/plain": [
              "<IPython.core.display.Javascript object>"
            ],
            "application/javascript": [
              "download(\"download_2fec03a1-8564-4b56-a670-a2f7cb0c9949\", \"meli-export-palabras-relacionadas.csv\", 6625)"
            ]
          },
          "metadata": {}
        }
      ]
    }
  ]
}