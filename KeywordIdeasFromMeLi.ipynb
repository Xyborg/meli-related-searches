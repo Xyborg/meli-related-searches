{
  "nbformat": 4,
  "nbformat_minor": 0,
  "metadata": {
    "colab": {
      "name": "KeywordIdeasFromMeLi.ipynb",
      "provenance": [],
      "authorship_tag": "ABX9TyMrSTebjJmiCUsSmpQBm3qY",
      "include_colab_link": true
    },
    "kernelspec": {
      "name": "python3",
      "display_name": "Python 3"
    },
    "language_info": {
      "name": "python"
    }
  },
  "cells": [
    {
      "cell_type": "markdown",
      "metadata": {
        "id": "view-in-github",
        "colab_type": "text"
      },
      "source": [
        "<a href=\"https://colab.research.google.com/github/Xyborg/meli-related-searches/blob/main/KeywordIdeasFromMeLi.ipynb\" target=\"_parent\"><img src=\"https://colab.research.google.com/assets/colab-badge.svg\" alt=\"Open In Colab\"/></a>"
      ]
    },
    {
      "cell_type": "code",
      "execution_count": 1,
      "metadata": {
        "colab": {
          "base_uri": "https://localhost:8080/"
        },
        "id": "TmVbT5n1a7A3",
        "outputId": "83378dd4-7570-4a8c-f051-fd99f13acca3"
      },
      "outputs": [
        {
          "output_type": "stream",
          "name": "stdout",
          "text": [
            "Looking in indexes: https://pypi.org/simple, https://us-python.pkg.dev/colab-wheels/public/simple/\n",
            "Collecting user_agent2\n",
            "  Downloading user_agent2-2021.12.11-py3-none-any.whl (4.2 kB)\n",
            "Collecting user-agent==0.1.10\n",
            "  Downloading user_agent-0.1.10.tar.gz (20 kB)\n",
            "Requirement already satisfied: six in /usr/local/lib/python3.7/dist-packages (from user-agent==0.1.10->user_agent2) (1.15.0)\n",
            "Building wheels for collected packages: user-agent\n",
            "  Building wheel for user-agent (setup.py) ... \u001b[?25l\u001b[?25hdone\n",
            "  Created wheel for user-agent: filename=user_agent-0.1.10-py3-none-any.whl size=18982 sha256=be74a58d2759ef982b6da982d903a5e62279a22282363baa28f8b1350e1161c6\n",
            "  Stored in directory: /root/.cache/pip/wheels/09/a4/b8/8125d9fb731fb7c785eb41e8eda216297b1a9d4bb28a043397\n",
            "Successfully built user-agent\n",
            "Installing collected packages: user-agent, user-agent2\n",
            "Successfully installed user-agent-0.1.10 user-agent2-2021.12.11\n"
          ]
        }
      ],
      "source": [
        "!pip install user_agent2"
      ]
    },
    {
      "cell_type": "code",
      "source": [
        "import requests\n",
        "import json\n",
        "import pandas as pd\n",
        "from user_agent2 import (generate_user_agent)"
      ],
      "metadata": {
        "id": "4fO-gtgscpKI"
      },
      "execution_count": 8,
      "outputs": []
    },
    {
      "cell_type": "markdown",
      "source": [
        "Este pequeño script te permite extraer ideas de palabras claves utilizando las sugerencias de Mercado Libre.\n",
        "Es posible elegir diferentes paises."
      ],
      "metadata": {
        "id": "Mb5g-KIGr2C7"
      }
    },
    {
      "cell_type": "code",
      "source": [
        "seedkwd = input(\"Keyword Semilla: \")\n",
        "print(\"\\nArgentina (MLA), Mexico (MLM), Brasil (MLB), Uruguay (MLU), Chile (MLC), Colombia (MCO), Peru (MPE)\")\n",
        "print(\"Si quieres elegir Argetina, ingresa MLA\")\n",
        "mercado = input(\"Mercado Objetivo: \")"
      ],
      "metadata": {
        "colab": {
          "base_uri": "https://localhost:8080/"
        },
        "id": "fzAKmyrCpqzB",
        "outputId": "98b5de4b-b7ea-48ab-a0dd-5690334b9dd9"
      },
      "execution_count": 13,
      "outputs": [
        {
          "name": "stdout",
          "output_type": "stream",
          "text": [
            "Keyword Semilla: iphone\n",
            "\n",
            "Argentina (MLA), Mexico (MLM), Brasil (MLB), Uruguay (MLU), Chile (MLC), Colombia (MCO), Peru (MPE)\n",
            "Si quieres elegir Argetina, ingresa MLA\n",
            "Mercado Objetivo: MLM\n"
          ]
        }
      ]
    },
    {
      "cell_type": "code",
      "source": [
        "def getkwds(seed_keyword, market):\n",
        "  ua = generate_user_agent(navigator=\"chrome\")\n",
        "  header = {'User-Agent': str(ua)}\n",
        "  getterms_url = \"https://http2.mlstatic.com/resources/sites/\" + market + \"/autosuggest?showFilters=true&limit=6&api_version=2&q=\"\n",
        "  response = requests.get(getterms_url + seed_keyword, headers=header)\n",
        "  return response"
      ],
      "metadata": {
        "id": "bN0dx3PThbZj"
      },
      "execution_count": 4,
      "outputs": []
    },
    {
      "cell_type": "code",
      "source": [
        "source_kws = []\n",
        "final_kws = []\n",
        "\n",
        "for i in getkwds(seedkwd, mercado).json()['suggested_queries']:\n",
        "    for o in getkwds(i['q'], mercado).json()['suggested_queries']:\n",
        "      source_kws.append(i['q'])\n",
        "      final_kws.append(o['q'])\n",
        "      for p in getkwds(o['q'], mercado).json()['suggested_queries']:\n",
        "        source_kws.append(i['q'])\n",
        "        final_kws.append(p['q'])\n",
        "        for q in getkwds(p['q'], mercado).json()['suggested_queries']:\n",
        "          source_kws.append(i['q'])\n",
        "          final_kws.append(o['q'])\n",
        "\n",
        "df = pd.DataFrame(None)\n",
        "df['seed_keyword'] = source_kws\n",
        "df['related_searches'] = final_kws\n",
        "\n",
        "df = df.explode('related_searches').reset_index(drop=True)\n",
        "df = df.drop_duplicates().reset_index(drop=True)\n",
        "\n",
        "df"
      ],
      "metadata": {
        "colab": {
          "base_uri": "https://localhost:8080/",
          "height": 424
        },
        "id": "_z6-4oNtbjfx",
        "outputId": "d6adfe26-723c-4e6f-8c6f-5952ed46b034"
      },
      "execution_count": 16,
      "outputs": [
        {
          "output_type": "execute_result",
          "data": {
            "text/plain": [
              "      seed_keyword             related_searches\n",
              "0        iphone 11                    iphone 11\n",
              "1        iphone 11              funda iphone 11\n",
              "2        iphone 11              iphone 11 usado\n",
              "3        iphone 11          protector iphone 11\n",
              "4        iphone 11               iphone 11 case\n",
              "..             ...                          ...\n",
              "169  fundas iphone      fundas iphone 13pro max\n",
              "170  fundas iphone          fundas iphone 13pro\n",
              "171  fundas iphone       cuero fundas iphone 13\n",
              "172  fundas iphone  fundas iphone7plus silicona\n",
              "173  fundas iphone      fundas iphone7plus vaca\n",
              "\n",
              "[174 rows x 2 columns]"
            ],
            "text/html": [
              "\n",
              "  <div id=\"df-15a7d9af-f4a0-4f33-9e5b-d51f7c06b5f5\">\n",
              "    <div class=\"colab-df-container\">\n",
              "      <div>\n",
              "<style scoped>\n",
              "    .dataframe tbody tr th:only-of-type {\n",
              "        vertical-align: middle;\n",
              "    }\n",
              "\n",
              "    .dataframe tbody tr th {\n",
              "        vertical-align: top;\n",
              "    }\n",
              "\n",
              "    .dataframe thead th {\n",
              "        text-align: right;\n",
              "    }\n",
              "</style>\n",
              "<table border=\"1\" class=\"dataframe\">\n",
              "  <thead>\n",
              "    <tr style=\"text-align: right;\">\n",
              "      <th></th>\n",
              "      <th>seed_keyword</th>\n",
              "      <th>related_searches</th>\n",
              "    </tr>\n",
              "  </thead>\n",
              "  <tbody>\n",
              "    <tr>\n",
              "      <th>0</th>\n",
              "      <td>iphone 11</td>\n",
              "      <td>iphone 11</td>\n",
              "    </tr>\n",
              "    <tr>\n",
              "      <th>1</th>\n",
              "      <td>iphone 11</td>\n",
              "      <td>funda iphone 11</td>\n",
              "    </tr>\n",
              "    <tr>\n",
              "      <th>2</th>\n",
              "      <td>iphone 11</td>\n",
              "      <td>iphone 11 usado</td>\n",
              "    </tr>\n",
              "    <tr>\n",
              "      <th>3</th>\n",
              "      <td>iphone 11</td>\n",
              "      <td>protector iphone 11</td>\n",
              "    </tr>\n",
              "    <tr>\n",
              "      <th>4</th>\n",
              "      <td>iphone 11</td>\n",
              "      <td>iphone 11 case</td>\n",
              "    </tr>\n",
              "    <tr>\n",
              "      <th>...</th>\n",
              "      <td>...</td>\n",
              "      <td>...</td>\n",
              "    </tr>\n",
              "    <tr>\n",
              "      <th>169</th>\n",
              "      <td>fundas iphone</td>\n",
              "      <td>fundas iphone 13pro max</td>\n",
              "    </tr>\n",
              "    <tr>\n",
              "      <th>170</th>\n",
              "      <td>fundas iphone</td>\n",
              "      <td>fundas iphone 13pro</td>\n",
              "    </tr>\n",
              "    <tr>\n",
              "      <th>171</th>\n",
              "      <td>fundas iphone</td>\n",
              "      <td>cuero fundas iphone 13</td>\n",
              "    </tr>\n",
              "    <tr>\n",
              "      <th>172</th>\n",
              "      <td>fundas iphone</td>\n",
              "      <td>fundas iphone7plus silicona</td>\n",
              "    </tr>\n",
              "    <tr>\n",
              "      <th>173</th>\n",
              "      <td>fundas iphone</td>\n",
              "      <td>fundas iphone7plus vaca</td>\n",
              "    </tr>\n",
              "  </tbody>\n",
              "</table>\n",
              "<p>174 rows × 2 columns</p>\n",
              "</div>\n",
              "      <button class=\"colab-df-convert\" onclick=\"convertToInteractive('df-15a7d9af-f4a0-4f33-9e5b-d51f7c06b5f5')\"\n",
              "              title=\"Convert this dataframe to an interactive table.\"\n",
              "              style=\"display:none;\">\n",
              "        \n",
              "  <svg xmlns=\"http://www.w3.org/2000/svg\" height=\"24px\"viewBox=\"0 0 24 24\"\n",
              "       width=\"24px\">\n",
              "    <path d=\"M0 0h24v24H0V0z\" fill=\"none\"/>\n",
              "    <path d=\"M18.56 5.44l.94 2.06.94-2.06 2.06-.94-2.06-.94-.94-2.06-.94 2.06-2.06.94zm-11 1L8.5 8.5l.94-2.06 2.06-.94-2.06-.94L8.5 2.5l-.94 2.06-2.06.94zm10 10l.94 2.06.94-2.06 2.06-.94-2.06-.94-.94-2.06-.94 2.06-2.06.94z\"/><path d=\"M17.41 7.96l-1.37-1.37c-.4-.4-.92-.59-1.43-.59-.52 0-1.04.2-1.43.59L10.3 9.45l-7.72 7.72c-.78.78-.78 2.05 0 2.83L4 21.41c.39.39.9.59 1.41.59.51 0 1.02-.2 1.41-.59l7.78-7.78 2.81-2.81c.8-.78.8-2.07 0-2.86zM5.41 20L4 18.59l7.72-7.72 1.47 1.35L5.41 20z\"/>\n",
              "  </svg>\n",
              "      </button>\n",
              "      \n",
              "  <style>\n",
              "    .colab-df-container {\n",
              "      display:flex;\n",
              "      flex-wrap:wrap;\n",
              "      gap: 12px;\n",
              "    }\n",
              "\n",
              "    .colab-df-convert {\n",
              "      background-color: #E8F0FE;\n",
              "      border: none;\n",
              "      border-radius: 50%;\n",
              "      cursor: pointer;\n",
              "      display: none;\n",
              "      fill: #1967D2;\n",
              "      height: 32px;\n",
              "      padding: 0 0 0 0;\n",
              "      width: 32px;\n",
              "    }\n",
              "\n",
              "    .colab-df-convert:hover {\n",
              "      background-color: #E2EBFA;\n",
              "      box-shadow: 0px 1px 2px rgba(60, 64, 67, 0.3), 0px 1px 3px 1px rgba(60, 64, 67, 0.15);\n",
              "      fill: #174EA6;\n",
              "    }\n",
              "\n",
              "    [theme=dark] .colab-df-convert {\n",
              "      background-color: #3B4455;\n",
              "      fill: #D2E3FC;\n",
              "    }\n",
              "\n",
              "    [theme=dark] .colab-df-convert:hover {\n",
              "      background-color: #434B5C;\n",
              "      box-shadow: 0px 1px 3px 1px rgba(0, 0, 0, 0.15);\n",
              "      filter: drop-shadow(0px 1px 2px rgba(0, 0, 0, 0.3));\n",
              "      fill: #FFFFFF;\n",
              "    }\n",
              "  </style>\n",
              "\n",
              "      <script>\n",
              "        const buttonEl =\n",
              "          document.querySelector('#df-15a7d9af-f4a0-4f33-9e5b-d51f7c06b5f5 button.colab-df-convert');\n",
              "        buttonEl.style.display =\n",
              "          google.colab.kernel.accessAllowed ? 'block' : 'none';\n",
              "\n",
              "        async function convertToInteractive(key) {\n",
              "          const element = document.querySelector('#df-15a7d9af-f4a0-4f33-9e5b-d51f7c06b5f5');\n",
              "          const dataTable =\n",
              "            await google.colab.kernel.invokeFunction('convertToInteractive',\n",
              "                                                     [key], {});\n",
              "          if (!dataTable) return;\n",
              "\n",
              "          const docLinkHtml = 'Like what you see? Visit the ' +\n",
              "            '<a target=\"_blank\" href=https://colab.research.google.com/notebooks/data_table.ipynb>data table notebook</a>'\n",
              "            + ' to learn more about interactive tables.';\n",
              "          element.innerHTML = '';\n",
              "          dataTable['output_type'] = 'display_data';\n",
              "          await google.colab.output.renderOutput(dataTable, element);\n",
              "          const docLink = document.createElement('div');\n",
              "          docLink.innerHTML = docLinkHtml;\n",
              "          element.appendChild(docLink);\n",
              "        }\n",
              "      </script>\n",
              "    </div>\n",
              "  </div>\n",
              "  "
            ]
          },
          "metadata": {},
          "execution_count": 16
        }
      ]
    }
  ]
}